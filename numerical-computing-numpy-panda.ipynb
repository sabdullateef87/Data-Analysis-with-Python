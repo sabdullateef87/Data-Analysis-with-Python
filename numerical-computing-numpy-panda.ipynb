{
    "cells": [
        {
            "cell_type": "code",
            "execution_count": 7,
            "source": [
                "import os\r\n",
                "os.mkdir(\"./data\")"
            ],
            "outputs": [],
            "metadata": {}
        },
        {
            "cell_type": "code",
            "execution_count": 10,
            "source": [
                "import urllib.request\r\n",
                "url1 = urllib.request.urlretrieve(\"https://hub.jovian.ml/wp-content/uploads/2020/08/loans1.txt\", \"./data/loans1.text\")\r\n",
                "url2 = urllib.request.urlretrieve(\"https://hub.jovian.ml/wp-content/uploads/2020/08/loans2.txt\", \"./data/loans2.text\")\r\n",
                "url3 = urllib.request.urlretrieve(\"https://hub.jovian.ml/wp-content/uploads/2020/08/loans3.txt\", \"./data/loans3.text\")"
            ],
            "outputs": [],
            "metadata": {}
        },
        {
            "cell_type": "code",
            "execution_count": 13,
            "source": [
                "os.listdir(\"./data\")"
            ],
            "outputs": [
                {
                    "output_type": "execute_result",
                    "data": {
                        "text/plain": [
                            "['loans1.text', 'loans2.text', 'loans3.text']"
                        ]
                    },
                    "metadata": {},
                    "execution_count": 13
                }
            ],
            "metadata": {}
        },
        {
            "cell_type": "markdown",
            "source": [
                "# Reading from files\r\n",
                "to read from a file, use the Open function, the Open function returns a file object. Parameter Description file The path and name of the file mode A string, define which mode you want to open the file in:\r\n",
                "\r\n",
                "\"r\" - Read - Default value. Opens a file for reading, error if the file does not exist\r\n",
                "\r\n",
                "\"a\" - Append - Opens a file for appending, creates the file if it does not exist\r\n",
                "\r\n",
                "\"w\" - Write - Opens a file for writing, creates the file if it does not exist\r\n",
                "\r\n",
                "\"x\" - Create - Creates the specified file, returns an error if the file exist\r\n",
                "\r\n",
                "In addition you can specify if the file should be handled as binary or text mode\r\n",
                "\r\n",
                "\"t\" - Text - Default value. Text mode\r\n",
                "\r\n",
                "\"b\" - Binary - Binary mode (e.g. images)"
            ],
            "metadata": {}
        },
        {
            "cell_type": "code",
            "execution_count": 3,
            "source": [
                "def parse_header(header):\r\n",
                "    return header.strip().split(\",\")\r\n",
                "def parse_values(data_line):\r\n",
                "    values = []\r\n",
                "    for item in data_line.strip().split(\",\"):\r\n",
                "        if len(item) == 0:\r\n",
                "            values.append(0)\r\n",
                "        else:\r\n",
                "            values.append(float(item))\r\n",
                "    return values\r\n",
                "def create_item_dict(headers, values):\r\n",
                "    result = {}\r\n",
                "    for header, value in zip(headers, values):\r\n",
                "        result[header] = value\r\n",
                "    return result\r\n",
                "def read_csv(path):\r\n",
                "    res = []\r\n",
                "    with open(path, 'r') as file:\r\n",
                "        lines = file.readlines()\r\n",
                "        header = parse_header(lines[0])\r\n",
                "        for line_data in lines[1:]:\r\n",
                "            values = parse_values(line_data)\r\n",
                "            item_dict = create_item_dict(header, values)\r\n",
                "            res.append(item_dict)\r\n",
                "    return res"
            ],
            "outputs": [],
            "metadata": {}
        },
        {
            "cell_type": "code",
            "execution_count": 5,
            "source": [
                "import math\r\n",
                "def loan_emi(amount, duration, rate, down_payment=0):\r\n",
                "    loam_amount = amount - down_payment\r\n",
                "    try:\r\n",
                "        emi = loam_amount * rate * ((1 + rate)**duration) /(((1 + rate) * duration) - 1)\r\n",
                "    except ZeroDivisionError:\r\n",
                "        emi = loam_amount / duration\r\n",
                "    emi = math.ceil(emi)\r\n",
                "    return emi\r\n",
                "loans2 = read_csv(\"./data/loans2.txt\")\r\n",
                "def compute_emis(loans):\r\n",
                "    for loan in loans:\r\n",
                "        loan['emi'] = loan_emi(loan[\"amount\"], loan[\"duration\"], loan[\"rate\"] / 12, loan[\"down_payment\"])\r\n",
                "compute_emis(loans2)\r\n",
                "loans2\r\n",
                "\r\n",
                "with open(\"./data/emis2.txt\", \"w\") as f:\r\n",
                "    for loans in loans2:\r\n",
                "        f.write('{}{}{}{}{}\\n'.format(loans['amount'], loans['duration'], loans['rate'], loans['down_payment'], loans['emi']))"
            ],
            "outputs": [],
            "metadata": {}
        },
        {
            "cell_type": "markdown",
            "source": [
                "# Anyanlysing tabular data with panda"
            ],
            "metadata": {}
        },
        {
            "cell_type": "code",
            "execution_count": 7,
            "source": [
                "import urllib.request\r\n",
                "urllib.request.urlretrieve(\"https://hub.jovian.ml/wp-content/uploads/2020/09/italy-covid-daywise.csv\", \"italy-covid-daywise.csv\")"
            ],
            "outputs": [
                {
                    "output_type": "execute_result",
                    "data": {
                        "text/plain": [
                            "('italy-covid-daywise.csv', <http.client.HTTPMessage at 0x21f5dce1ac0>)"
                        ]
                    },
                    "metadata": {},
                    "execution_count": 7
                }
            ],
            "metadata": {}
        },
        {
            "cell_type": "code",
            "execution_count": null,
            "source": [
                "import pandas as pd\r\n",
                "covid_df = pd.read_csv(\"italy-covid-daywise.csv\")\r\n",
                "covid_df"
            ],
            "outputs": [],
            "metadata": {}
        }
    ],
    "metadata": {
        "orig_nbformat": 4,
        "language_info": {
            "name": "python",
            "version": "3.8.5",
            "mimetype": "text/x-python",
            "codemirror_mode": {
                "name": "ipython",
                "version": 3
            },
            "pygments_lexer": "ipython3",
            "nbconvert_exporter": "python",
            "file_extension": ".py"
        },
        "kernelspec": {
            "name": "python3",
            "display_name": "Python 3.8.5 64-bit ('base': conda)"
        },
        "interpreter": {
            "hash": "b3ba2566441a7c06988d0923437866b63cedc61552a5af99d1f4fb67d367b25f"
        }
    },
    "nbformat": 4,
    "nbformat_minor": 2
}